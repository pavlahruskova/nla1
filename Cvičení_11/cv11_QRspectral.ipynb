{
 "cells": [
  {
   "attachments": {},
   "cell_type": "markdown",
   "metadata": {},
   "source": [
    "# Cvičení 11\n",
    "\n",
    "## Využití QR rozkladu\n",
    "\n",
    "V tomto cvičení se budeme zabývat aplikacemi QR rozkladu, konkrétně jeho využitím k výpočtu spektrálního rozkladu matice."
   ]
  },
  {
   "attachments": {},
   "cell_type": "markdown",
   "metadata": {},
   "source": [
    "### Spektrální rozklad\n",
    "\n",
    "Připomeňme, že pokud je $\\mathsf{A}$ reálná symetrická matice, pak existují ortogonální matice $\\mathsf{Q}$ a diagonální matice $\\mathsf{D}$ takové, že $\\mathsf{A} = \\mathsf{Q}\\mathsf{D}\\mathsf{Q}^T$. Diagonální prvky $\\mathsf{D}$ jsou vlastní čísla matice $\\mathsf{A}$, sloupce $\\mathsf{Q}$ jsou ortonormální vlastní vektory $\\mathsf{A}$. Této maticové dekompozici říkáme spektrální rozklad.\n",
    "\n",
    "Spektrální rozklad můžeme určit pomocí QR algoritmu (viz přednáška)."
   ]
  },
  {
   "cell_type": "markdown",
   "metadata": {},
   "source": [
    "### Příklad 1\n",
    "\n",
    "**ÚKOL**: Vytvořte funkci `qdqt` implementující QR algoritmus pro hledání vlastních čísel a vlastních vektorů. Na vstupu bude mít reálnou symetrickou matici a požadovanou přesnost `eps`. Výstupem bude matice $\\mathsf{Q}$, jejíž sloupce budou tvořit vlastní vektory vstupní matice, vektor $\\mathbf{d}$ obsahující příslušná vlastní čísla a počet iterací potřebných k dosažené přesnosti. Využijte buď vámi vytvořenou funkci `qr_decomposition(A)` z 5. cvičení (odstraňte příslušné výpisy), případně zabudovanou funkci z NumPy. \n",
    "\n",
    "$$\n",
    "\\begin{array}{l}\n",
    "\\text{Input: SPD matrix } A, \\text{ tolerance } eps\\\\\n",
    "D = A  \\\\\n",
    "Q = I \\\\\n",
    "\\text{\\bf{while} } \\|D - diag(diag(D))\\| > eps  \\\\\n",
    "\\quad\\begin{array}{l}\n",
    "    [Qk, Rk] = qr(D) \\\\\n",
    "    D = Rk*Qk \\\\ \n",
    "    Q = Q*Qk \\\\\n",
    "    k = k + 1 \\\\\n",
    "\\end{array}\\\\\n",
    "\\text{end while}\\\\\n",
    "\\text{The solution is stored in } Q \\text{ and } diag(D).\\\\\n",
    "\\end{array}\n",
    "$$"
   ]
  },
  {
   "cell_type": "code",
   "execution_count": null,
   "metadata": {},
   "outputs": [],
   "source": [
    "import numpy as np\n",
    "\n",
    "# UKOL: Zkopírujte řešení OR dekompozice z 5. cvičení: \n",
    "def qr_decomposition(A):\n",
    "\n",
    "\n",
    "    return Q, R\n",
    "\n",
    "# Zde pouze pro otestování\n",
    "# Q, R = qr_decomposition(A)"
   ]
  },
  {
   "cell_type": "code",
   "execution_count": null,
   "metadata": {},
   "outputs": [],
   "source": [
    "# UKOL: Implementujte QR algoritmus\n",
    "import numpy as np\n",
    "\n",
    "def qdqt(A, eps=1e-5):\n",
    "    \"\"\"\n",
    "    QDQT Pocita spektralni rozklad pomoci QR algoritmu\n",
    "    Vraci ortogonalni matici Q (sloupce jsou ortonormalni vlastni vektory\n",
    "    A), vektor d obsahujici vlastni cisla matice A a pocet iteraci nutnych\n",
    "    k dosazeni reseni.\n",
    "    \"\"\"\n",
    "    D = np.copy(A)\n",
    "    m = A.shape[0]\n",
    "    Q = np.eye(m)\n",
    "    \n",
    "    it = 1\n",
    "    \n",
    "    # iterace ukoncime, pokud norma mimodiagonalnich prvku bude dostatecne mala\n",
    "    while np.linalg.norm(D - np.diag(np.diag(D))) > eps:\n",
    "        # Implementujte podle výše uvedeného pseudokódu\n",
    "\n",
    "        it = it + 1\n",
    "\n",
    "    d = np.diag(D)\n",
    "\n",
    "    return Q, d, it"
   ]
  },
  {
   "cell_type": "code",
   "execution_count": 9,
   "metadata": {},
   "outputs": [
    {
     "name": "stdout",
     "output_type": "stream",
     "text": [
      "Vstupní matice A:\n",
      "[[1 2 3]\n",
      " [2 4 5]\n",
      " [3 5 6]]\n",
      "\n",
      "Ortogonální matice Q:\n",
      "[[-0.32798528 -0.73697059 -0.59101608]\n",
      " [-0.59100905 -0.32799231  0.7369731 ]\n",
      " [-0.73697623  0.59101218 -0.32797964]]\n",
      "\n",
      "Vlastní čísla (diagonála D):\n",
      "[11.34481428 -0.51572947  0.17091519]\n",
      "\n",
      "Počet iterací:\n",
      "12\n",
      "\n",
      "Matice rekonstruovana z QDQ^T:\n",
      "[[1.00000571 1.99999771 2.9999993 ]\n",
      " [1.99999771 3.99999683 5.00000356]\n",
      " [2.9999993  5.00000356 5.99999746]]\n",
      "\n",
      "Rozdil mezi vstupni matici A a rekonstruovanou matici:\n",
      "[[5.70817233e-06 2.28870501e-06 7.04976811e-07]\n",
      " [2.28870501e-06 3.16783770e-06 3.55897813e-06]\n",
      " [7.04976811e-07 3.55897813e-06 2.54033463e-06]]\n",
      "\n",
      "Overme, ze Q[:,0] je vlastni vektor a d[0] odpovidajici vlastni cislo:\n",
      "Av = [-3.72093206 -6.70488789 -8.36085845]\n",
      "lambda v = [-3.72093206 -6.70488789 -8.36085845]\n"
     ]
    }
   ],
   "source": [
    "# Otestujeme vasi metodu\n",
    "\n",
    "# Symetricka realna matice\n",
    "\n",
    "A = np.array([[1, 2, 3], [2, 4, 5], [3, 5, 6]])\n",
    "\n",
    "# Zavolejme qdqt\n",
    "Q, d, it = qdqt(A)\n",
    "\n",
    "print(\"Vstupní matice A:\")\n",
    "print(A)\n",
    "print(\"\\nOrtogonální matice Q:\")\n",
    "print(Q)\n",
    "print(\"\\nVlastní čísla (diagonála D):\")\n",
    "print(d)\n",
    "print(\"\\nPočet iterací:\")\n",
    "print(it)\n",
    "\n",
    "# Overme, ze A = QDQ^T\n",
    "D = np.diag(d)\n",
    "A_reconstructed = Q @ D @ Q.T\n",
    "print(\"\\nMatice rekonstruovana z QDQ^T:\")\n",
    "print(A_reconstructed)\n",
    "print(\"\\nRozdil mezi vstupni matici A a rekonstruovanou matici:\")\n",
    "print(np.abs(A - A_reconstructed))\n",
    "\n",
    "print(\"\\nOverme, ze Q[:,0] je vlastni vektor a d[0] odpovidajici vlastni cislo:\")\n",
    "print('Av = {}'.format(A@Q[:,0]))\n",
    "print('lambda v = {}'.format(d[0]*Q[:,0]))"
   ]
  }
 ],
 "metadata": {
  "kernelspec": {
   "display_name": "Python 3",
   "language": "python",
   "name": "python3"
  },
  "language_info": {
   "codemirror_mode": {
    "name": "ipython",
    "version": 3
   },
   "file_extension": ".py",
   "mimetype": "text/x-python",
   "name": "python",
   "nbconvert_exporter": "python",
   "pygments_lexer": "ipython3",
   "version": "3.10.12"
  },
  "orig_nbformat": 4
 },
 "nbformat": 4,
 "nbformat_minor": 2
}
